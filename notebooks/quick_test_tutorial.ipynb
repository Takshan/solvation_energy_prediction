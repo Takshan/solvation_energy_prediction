{
 "cells": [
  {
   "cell_type": "markdown",
   "metadata": {},
   "source": [
    "# This notebook is used as example to provide quick and direct predictions on single or a few molecules. "
   ]
  },
  {
   "cell_type": "markdown",
   "metadata": {},
   "source": [
    "#### 1. Go to the directory where scripts are saved. "
   ]
  },
  {
   "cell_type": "code",
   "execution_count": 1,
   "metadata": {},
   "outputs": [
    {
     "name": "stdout",
     "output_type": "stream",
     "text": [
      "/scratch/dz1061/packages/solvation_energy_prediction/scr\n"
     ]
    }
   ],
   "source": [
    "# you may change this directory\n",
    "cd /scratch/dz1061/packages/solvation_energy_prediction/scr"
   ]
  },
  {
   "cell_type": "code",
   "execution_count": 3,
   "metadata": {},
   "outputs": [],
   "source": [
    "from helper import *\n",
    "from data_process import *\n",
    "from trainer import *\n",
    "from model import *\n",
    "from layers import *\n",
    "from gen_conf import *\n",
    "from utils import *"
   ]
  },
  {
   "cell_type": "markdown",
   "metadata": {},
   "source": [
    "#### 2. Starting with SMILES for one given molecule, let's first generate a conformer for it. "
   ]
  },
  {
   "cell_type": "code",
   "execution_count": 4,
   "metadata": {},
   "outputs": [],
   "source": [
    "mol = Chem.MolFromSmiles('CCc1cnccn1')"
   ]
  },
  {
   "cell_type": "code",
   "execution_count": 5,
   "metadata": {},
   "outputs": [],
   "source": [
    "# the genrator function and related functions are saved in gen_conf.py. It will generate a sdf and xyz file.\n",
    "# example_1 is the name you give to the example molecule. \n",
    "# path is where sdf and xyz files are saved. You may provide a specific directory. \n",
    "name = 'example_1' # you may change this name\n",
    "file_path = '/scratch/dz1061/packages/solvation_energy_prediction/results/Direct_test' # you may change this directory\n",
    "generator(mol, name, file_path)"
   ]
  },
  {
   "cell_type": "markdown",
   "metadata": {},
   "source": [
    "#### 3. Then we generate initial features for the given molecule by using sdf and xyz file."
   ]
  },
  {
   "cell_type": "code",
   "execution_count": 6,
   "metadata": {},
   "outputs": [],
   "source": [
    "example_graph = generate_graphs(os.path.join(file_path, name+'.sdf'), os.path.join(file_path, name+'.xyz'))"
   ]
  },
  {
   "cell_type": "markdown",
   "metadata": {},
   "source": [
    "Take a quick look at the attributes we need for a given molecule. "
   ]
  },
  {
   "cell_type": "code",
   "execution_count": 7,
   "metadata": {
    "scrolled": true
   },
   "outputs": [
    {
     "data": {
      "text/plain": [
       "{'x': tensor([[4.6251, 3.1136, 2.6679,  ..., 0.0000, 0.0000, 0.0000],\n",
       "         [4.7142, 2.3933, 3.2023,  ..., 0.0000, 0.0000, 0.0000],\n",
       "         [4.3858, 0.6299, 2.8670,  ..., 0.0000, 0.0000, 0.0000],\n",
       "         ...,\n",
       "         [2.1847, 0.0665, 0.6709,  ..., 0.0000, 0.0000, 0.0000],\n",
       "         [0.8580, 0.0625, 0.4805,  ..., 0.0000, 0.0000, 0.0000],\n",
       "         [0.9875, 0.0625, 0.4784,  ..., 0.0000, 0.0000, 0.0000]]),\n",
       " 'Z': tensor([6, 6, 6, 6, 7, 6, 6, 7, 1, 1, 1, 1, 1, 1, 1, 1]),\n",
       " 'N': tensor([16.]),\n",
       " 'edge_attr': tensor([[0., 1., 0., 0., 0., 0., 0.],\n",
       "         [0., 1., 0., 0., 0., 0., 0.],\n",
       "         [0., 1., 0., 0., 0., 0., 0.],\n",
       "         [0., 1., 0., 0., 0., 0., 0.],\n",
       "         [0., 0., 0., 0., 1., 1., 1.],\n",
       "         [0., 0., 0., 0., 1., 1., 1.],\n",
       "         [0., 0., 0., 0., 1., 1., 1.],\n",
       "         [0., 0., 0., 0., 1., 1., 1.],\n",
       "         [0., 0., 0., 0., 1., 1., 1.],\n",
       "         [0., 0., 0., 0., 1., 1., 1.],\n",
       "         [0., 0., 0., 0., 1., 1., 1.],\n",
       "         [0., 0., 0., 0., 1., 1., 1.],\n",
       "         [0., 0., 0., 0., 1., 1., 1.],\n",
       "         [0., 0., 0., 0., 1., 1., 1.],\n",
       "         [0., 0., 0., 0., 1., 1., 1.],\n",
       "         [0., 0., 0., 0., 1., 1., 1.],\n",
       "         [0., 1., 0., 0., 0., 0., 0.],\n",
       "         [0., 1., 0., 0., 0., 0., 0.],\n",
       "         [0., 1., 0., 0., 0., 0., 0.],\n",
       "         [0., 1., 0., 0., 0., 0., 0.],\n",
       "         [0., 1., 0., 0., 0., 0., 0.],\n",
       "         [0., 1., 0., 0., 0., 0., 0.],\n",
       "         [0., 1., 0., 0., 0., 0., 0.],\n",
       "         [0., 1., 0., 0., 0., 0., 0.],\n",
       "         [0., 1., 0., 0., 0., 0., 0.],\n",
       "         [0., 1., 0., 0., 0., 0., 0.],\n",
       "         [0., 1., 0., 0., 0., 0., 0.],\n",
       "         [0., 1., 0., 0., 0., 0., 0.],\n",
       "         [0., 1., 0., 0., 0., 0., 0.],\n",
       "         [0., 1., 0., 0., 0., 0., 0.],\n",
       "         [0., 1., 0., 0., 0., 0., 0.],\n",
       "         [0., 1., 0., 0., 0., 0., 0.]]),\n",
       " 'edge_index': tensor([[ 0,  1,  1,  2,  2,  3,  3,  4,  4,  5,  5,  6,  6,  7,  7,  2,  0,  8,\n",
       "           0,  9,  0, 10,  1, 11,  1, 12,  3, 13,  5, 14,  6, 15],\n",
       "         [ 1,  0,  2,  1,  3,  2,  4,  3,  5,  4,  6,  5,  7,  6,  2,  7,  8,  0,\n",
       "           9,  0, 10,  0, 11,  1, 12,  1, 13,  3, 14,  5, 15,  6]])}"
      ]
     },
     "execution_count": 7,
     "metadata": {},
     "output_type": "execute_result"
    }
   ],
   "source": [
    "example_graph"
   ]
  },
  {
   "cell_type": "markdown",
   "metadata": {},
   "source": [
    "Let's save it for later use."
   ]
  },
  {
   "cell_type": "code",
   "execution_count": 8,
   "metadata": {},
   "outputs": [],
   "source": [
    "# you need to manually create a folder called raw under file_path.\n",
    "torch.save([example_graph], '/scratch/dz1061/packages/solvation_energy_prediction/results/Direct_test/raw/temp.pt')"
   ]
  },
  {
   "cell_type": "markdown",
   "metadata": {},
   "source": [
    "#### 4. Generate a data loader for the given molecule."
   ]
  },
  {
   "cell_type": "code",
   "execution_count": 9,
   "metadata": {},
   "outputs": [
    {
     "name": "stdout",
     "output_type": "stream",
     "text": [
      "Processing...\n",
      "Done!\n"
     ]
    }
   ],
   "source": [
    "example_dataset = GraphDataset_test('/scratch/dz1061/packages/solvation_energy_prediction/results/Direct_test')"
   ]
  },
  {
   "cell_type": "code",
   "execution_count": 10,
   "metadata": {},
   "outputs": [],
   "source": [
    "example_loader = DataLoader(example_dataset, batch_size=1, num_workers=0)"
   ]
  },
  {
   "cell_type": "markdown",
   "metadata": {},
   "source": [
    "#### 5. Load model weights from trained model. "
   ]
  },
  {
   "cell_type": "code",
   "execution_count": 11,
   "metadata": {},
   "outputs": [],
   "source": [
    "model_path = '/scratch/dz1061/packages/solvation_energy_prediction/models/FreeSolv'"
   ]
  },
  {
   "cell_type": "code",
   "execution_count": 15,
   "metadata": {},
   "outputs": [
    {
     "name": "stdout",
     "output_type": "stream",
     "text": [
      "tensor([-5.6809])\n"
     ]
    }
   ],
   "source": [
    "# load in configuration file\n",
    "config = loadConfig(os.path.join(model_path))\n",
    "config_all = {**config['data_config'], **config['model_config'], **config['train_config']}\n",
    "config_all['deg'] = torch.tensor([0, 5351, 348, 1867, 1565, 0])\n",
    "config_all['normalize'] = True\n",
    "config_all['energy_shift'] = torch.tensor([config_all['energy_shift_value']])\n",
    "config_all['energy_scale'] = torch.tensor([config_all['energy_scale_value']])\n",
    "config_all['device'] = 'cpu'\n",
    "\n",
    "# building models\n",
    "model = get_model(config_all)\n",
    "state_dic = torch.load(os.path.join(model_path, 'model_best.pt'), map_location=torch.device('cpu'))\n",
    "model.load_state_dict(state_dic)\n",
    "model.eval()\n",
    "    \n",
    "with torch.no_grad():\n",
    "    for data in example_loader:\n",
    "        print(model(data))"
   ]
  },
  {
   "cell_type": "code",
   "execution_count": null,
   "metadata": {},
   "outputs": [],
   "source": []
  }
 ],
 "metadata": {
  "kernelspec": {
   "display_name": "Python 3",
   "language": "python",
   "name": "python3"
  },
  "language_info": {
   "codemirror_mode": {
    "name": "ipython",
    "version": 3
   },
   "file_extension": ".py",
   "mimetype": "text/x-python",
   "name": "python",
   "nbconvert_exporter": "python",
   "pygments_lexer": "ipython3",
   "version": "3.8.5"
  }
 },
 "nbformat": 4,
 "nbformat_minor": 4
}
